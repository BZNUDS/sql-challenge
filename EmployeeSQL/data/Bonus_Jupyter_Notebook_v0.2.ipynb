{
 "cells": [
  {
   "cell_type": "code",
   "execution_count": 6,
   "id": "3e54f598",
   "metadata": {},
   "outputs": [],
   "source": [
    "\n",
    "\n",
    "#-- ## Bonus (Optional)\n",
    "#-- 1. Import the SQL database into Pandas. (Yes, you could read the CSVs directly in Pandas, but you are, after all, trying to prove your technical mettle.) \n",
    "#--    This step may require some research. Feel free to use the code below to get started. Be sure to make any necessary modifications \n",
    "#--    for your username, password, host, port, and database name:\n",
    "#--\n",
    "#-- ```sql\n",
    "\n",
    "# BZ had to first do \"pip install psycopg2\" in my Bash base directoy\n",
    "\n",
    "# conn_admin = psycopg2.connect(\"dbname=sql-challenge user=admin host=admin\")\n",
    "# conn_admin = psycopg2.connect(\"dbname=sql-challenge user=admin password=none\")\n",
    "# conn_admin = psycopg2.connect(\"dbname=sql-challenge user='postgres' password='Admin'\")\n",
    "#OperationalError: (psycopg2.OperationalError) connection to server at \"localhost\" (::1), port 5432 failed: \n",
    "# fe_sendauth: no password supplied\n",
    "\n",
    "#(Background on this error at: https://sqlalche.me/e/14/e3q8)\n",
    "\n",
    "\n",
    "\n",
    "\n"
   ]
  }
 ],
 "metadata": {
  "kernelspec": {
   "display_name": "Python 3 (ipykernel)",
   "language": "python",
   "name": "python3"
  },
  "language_info": {
   "codemirror_mode": {
    "name": "ipython",
    "version": 3
   },
   "file_extension": ".py",
   "mimetype": "text/x-python",
   "name": "python",
   "nbconvert_exporter": "python",
   "pygments_lexer": "ipython3",
   "version": "3.9.7"
  }
 },
 "nbformat": 4,
 "nbformat_minor": 5
}
