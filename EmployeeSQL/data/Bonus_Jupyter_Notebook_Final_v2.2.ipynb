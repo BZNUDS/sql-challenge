{
 "cells": [
  {
   "cell_type": "code",
   "execution_count": 3,
   "id": "87b6d1cf",
   "metadata": {},
   "outputs": [],
   "source": [
    "# Dependencies and Setup\n",
    "import pandas as pd\n",
    "import matplotlib.pyplot as plt\n",
    "import scipy.stats as st\n",
    "import numpy as np\n",
    "from scipy.stats import linregress\n",
    "from scipy import stats\n",
    "from sklearn import datasets\n",
    "import matplotlib.cm as cm\n",
    "from matplotlib.lines import Line2D\n",
    "import matplotlib\n",
    "import os\n",
    "\n",
    "# Import API key\n",
    "from bz_sql_key import pgAdmin\n"
   ]
  },
  {
   "cell_type": "code",
   "execution_count": 4,
   "id": "3e54f598",
   "metadata": {},
   "outputs": [
    {
     "name": "stdout",
     "output_type": "stream",
     "text": [
      "<sqlalchemy.engine.cursor.LegacyCursorResult object at 0x00000259C8AA4B20>\n",
      "<sqlalchemy.engine.cursor.LegacyCursorResult object at 0x00000259C8AA4F10>\n"
     ]
    },
    {
     "data": {
      "text/html": [
       "<div>\n",
       "<style scoped>\n",
       "    .dataframe tbody tr th:only-of-type {\n",
       "        vertical-align: middle;\n",
       "    }\n",
       "\n",
       "    .dataframe tbody tr th {\n",
       "        vertical-align: top;\n",
       "    }\n",
       "\n",
       "    .dataframe thead th {\n",
       "        text-align: right;\n",
       "    }\n",
       "</style>\n",
       "<table border=\"1\" class=\"dataframe\">\n",
       "  <thead>\n",
       "    <tr style=\"text-align: right;\">\n",
       "      <th></th>\n",
       "      <th>Emp_No</th>\n",
       "      <th>Salary</th>\n",
       "    </tr>\n",
       "  </thead>\n",
       "  <tbody>\n",
       "    <tr>\n",
       "      <th>0</th>\n",
       "      <td>10001</td>\n",
       "      <td>60117</td>\n",
       "    </tr>\n",
       "    <tr>\n",
       "      <th>1</th>\n",
       "      <td>10002</td>\n",
       "      <td>65828</td>\n",
       "    </tr>\n",
       "    <tr>\n",
       "      <th>2</th>\n",
       "      <td>10003</td>\n",
       "      <td>40006</td>\n",
       "    </tr>\n",
       "    <tr>\n",
       "      <th>3</th>\n",
       "      <td>10004</td>\n",
       "      <td>40054</td>\n",
       "    </tr>\n",
       "    <tr>\n",
       "      <th>4</th>\n",
       "      <td>10005</td>\n",
       "      <td>78228</td>\n",
       "    </tr>\n",
       "    <tr>\n",
       "      <th>...</th>\n",
       "      <td>...</td>\n",
       "      <td>...</td>\n",
       "    </tr>\n",
       "    <tr>\n",
       "      <th>300019</th>\n",
       "      <td>499995</td>\n",
       "      <td>40000</td>\n",
       "    </tr>\n",
       "    <tr>\n",
       "      <th>300020</th>\n",
       "      <td>499996</td>\n",
       "      <td>58058</td>\n",
       "    </tr>\n",
       "    <tr>\n",
       "      <th>300021</th>\n",
       "      <td>499997</td>\n",
       "      <td>49597</td>\n",
       "    </tr>\n",
       "    <tr>\n",
       "      <th>300022</th>\n",
       "      <td>499998</td>\n",
       "      <td>40000</td>\n",
       "    </tr>\n",
       "    <tr>\n",
       "      <th>300023</th>\n",
       "      <td>499999</td>\n",
       "      <td>63707</td>\n",
       "    </tr>\n",
       "  </tbody>\n",
       "</table>\n",
       "<p>300024 rows × 2 columns</p>\n",
       "</div>"
      ],
      "text/plain": [
       "        Emp_No  Salary\n",
       "0        10001   60117\n",
       "1        10002   65828\n",
       "2        10003   40006\n",
       "3        10004   40054\n",
       "4        10005   78228\n",
       "...        ...     ...\n",
       "300019  499995   40000\n",
       "300020  499996   58058\n",
       "300021  499997   49597\n",
       "300022  499998   40000\n",
       "300023  499999   63707\n",
       "\n",
       "[300024 rows x 2 columns]"
      ]
     },
     "execution_count": 4,
     "metadata": {},
     "output_type": "execute_result"
    }
   ],
   "source": [
    "#-- ## Bonus (Optional)\n",
    "#-- 1. Import the SQL database into Pandas. (Yes, I could read the CSVs directly in Pandas, but after all, \n",
    "#      trying to prove my technical mettle.) \n",
    "\n",
    "import psycopg2 \n",
    "# BZ had to first do \"pip install psycopg2\" in my Bash base directoy\n",
    "\n",
    "from sqlalchemy import create_engine\n",
    "engine = create_engine(pgAdmin)\n",
    "connection = engine.connect()\n",
    "\n",
    "titles_data = engine.execute(\"SELECT * FROM titles\")\n",
    "# print(titles_data)           \n",
    "title_id = []\n",
    "title = []\n",
    "c = 0\n",
    "for record in titles_data:\n",
    "    c = c + 1\n",
    "    title_id.append(record[0])\n",
    "    title.append(record[1])\n",
    "# print(f\"{c} rows returned\")\n",
    "title_df=pd.DataFrame({\"Title_ID\": title_id, \"Title\": title})\n",
    "title_df\n",
    "\n",
    "\n",
    "# print(\"*******************************************************************\")\n",
    "# print(\"Need to remove  employees limit 100\")\n",
    "# print(\"*******************************************************************\")\n",
    "employees_data = engine.execute(\"SELECT * FROM employees\")\n",
    "print(employees_data)                      \n",
    "emp_no = []\n",
    "emp_title_id  = []\n",
    "c = 0\n",
    "for record in employees_data:\n",
    "    c = c + 1\n",
    "    emp_no.append(record[0])\n",
    "    emp_title_id.append(record[1])\n",
    "# print(f\"{c} rows returned\")\n",
    "employees_df=pd.DataFrame({\"Emp_No\": emp_no, \"Emp_Title_ID\": emp_title_id})\n",
    "employees_df\n",
    "\n",
    "\n",
    "\n",
    "salaries_data = engine.execute(\"SELECT * FROM salaries\")\n",
    "print(salaries_data)                      \n",
    "emp_no = []\n",
    "salary = []\n",
    "c = 0\n",
    "for record in salaries_data:\n",
    "    c = c + 1\n",
    "    emp_no.append(record[0])\n",
    "    salary.append(record[1])\n",
    "# print(f\"{c} rows returned\")\n",
    "# print(f\"Salary {salary}\")\n",
    "\n",
    "salaries_df = pd.DataFrame({\"Emp_No\": emp_no, \"Salary\": salary})\n",
    "salaries_df\n"
   ]
  },
  {
   "cell_type": "code",
   "execution_count": 5,
   "id": "7e4d41b7",
   "metadata": {},
   "outputs": [
    {
     "data": {
      "image/png": "[encoded data removed]",
      "text/plain": [
       "<Figure size 432x288 with 1 Axes>"
      ]
     },
     "metadata": {
      "needs_background": "light"
     },
     "output_type": "display_data"
    }
   ],
   "source": [
    "#-- 2. Create a histogram to visualize the most common salary ranges for employees.\n",
    "\n",
    "# print(salary)\n",
    "plt.hist(salary)\n",
    "\n",
    "plt.xlabel(\"Salary\")\n",
    "plt.ylabel(\"Employyes\")\n",
    "plt.title(\"# Employees per Salary\")\n",
    "\n",
    "plt.show()"
   ]
  },
  {
   "cell_type": "code",
   "execution_count": 6,
   "id": "90b3e05f",
   "metadata": {},
   "outputs": [
    {
     "data": {
      "text/plain": [
       "Text(0.5, 1.0, 'Salary by Title')"
      ]
     },
     "execution_count": 6,
     "metadata": {},
     "output_type": "execute_result"
    },
    {
     "data": {
      "image/png": "[encoded data removed]",
      "text/plain": [
       "<Figure size 720x360 with 1 Axes>"
      ]
     },
     "metadata": {
      "needs_background": "light"
     },
     "output_type": "display_data"
    }
   ],
   "source": [
    "#-- 3. Create a bar chart of average salary by title.\n",
    "\n",
    "# From #2 above: title_df=pd.DataFrame({\"Title_ID\": title_id, \"Title\": title})\n",
    "# From #2 above: employees_df=pd.DataFrame({\"Emp_No\": emp_no, \"Emp_Title_ID\": emp_title_id})\n",
    "# From #2 above: salaries_df = pd.DataFrame({\"Emp_No\": emp_no, \"Salary\": salary})\n",
    "# print(\"salaries_df\")\n",
    "# print(salaries_df)\n",
    "# print(salaries_df[0:2])\n",
    "# print()\n",
    "\n",
    "# Merge the two DataFrames together based on the Dates they share\n",
    "sal_emp_merge_df = pd.merge(salaries_df, employees_df, on=\"Emp_No\")\n",
    "# print(\"sal_emp_merge_df\")\n",
    "# print(sal_emp_merge_df)\n",
    "sal_emp_merge_df = sal_emp_merge_df.rename(columns={\"Emp_Title_ID\": \"Title_ID\"})\n",
    "\n",
    "all_merge_df = pd.merge(sal_emp_merge_df, title_df, on=\"Title_ID\")\n",
    "# print(\"all_merge_df\")\n",
    "# print(all_merge_df)\n",
    "\n",
    "courses = list(all_merge_df[\"Title\"])\n",
    "# print(\"courses\")\n",
    "# print(courses)\n",
    "# print()\n",
    "\n",
    "values = list(all_merge_df[\"Salary\"])\n",
    "# print(\"values\")\n",
    "# print(values)\n",
    "# print()\n",
    "\n",
    "fig = plt.figure(figsize = (10, 5))\n",
    " \n",
    "# creating the bar plot\n",
    "plt.bar(courses, values, color ='maroon',\n",
    "        width = 0.4)\n",
    " \n",
    "plt.xlabel(\"Title\")\n",
    "plt.ylabel(\"Salary\")\n",
    "plt.title(\"Salary by Title\")\n"
   ]
  },
  {
   "cell_type": "code",
   "execution_count": null,
   "id": "659a7dcb",
   "metadata": {},
   "outputs": [],
   "source": []
  }
 ],
 "metadata": {
  "kernelspec": {
   "display_name": "Python 3 (ipykernel)",
   "language": "python",
   "name": "python3"
  },
  "language_info": {
   "codemirror_mode": {
    "name": "ipython",
    "version": 3
   },
   "file_extension": ".py",
   "mimetype": "text/x-python",
   "name": "python",
   "nbconvert_exporter": "python",
   "pygments_lexer": "ipython3",
   "version": "3.9.7"
  }
 },
 "nbformat": 4,
 "nbformat_minor": 5
}
